{
  "nbformat": 4,
  "nbformat_minor": 0,
  "metadata": {
    "colab": {
      "provenance": [],
      "include_colab_link": true
    },
    "kernelspec": {
      "name": "python3",
      "display_name": "Python 3"
    },
    "language_info": {
      "name": "python"
    },
    "gpuClass": "standard",
    "accelerator": "GPU"
  },
  "cells": [
    {
      "cell_type": "markdown",
      "metadata": {
        "id": "view-in-github",
        "colab_type": "text"
      },
      "source": [
        "<a href=\"https://colab.research.google.com/github/lorenzocal/Ego4D_NLQ/blob/main/Ego4D_NLQ_Benchmark.ipynb\" target=\"_parent\"><img src=\"https://colab.research.google.com/assets/colab-badge.svg\" alt=\"Open In Colab\"/></a>"
      ]
    },
    {
      "cell_type": "markdown",
      "source": [
        "# Ego4D Moments Benchmark (NLQ) Quickstart\n",
        "\n",
        "Please set your resources to GPU (Runtime -> Change runtime type -> GPU).\n",
        "\n",
        "This quickstart will show:\n",
        "1. An overview of the training data\n",
        "2. How to train the baseline (VSLNet)\n",
        "\n",
        "To begin: add your **access keys** below, change your Runtime Type to **GPU**, and run cells **one by one** as you read through. This helps avoid timeouts since Colab gives more GPU cycles to interactive notebooks.\n",
        "\n",
        "## Resources\n",
        "- [Baseline Repo](https://github.com/EGO4D/episodic-memory/tree/main/NLQ/VSLNet)\n",
        "- [Docs](https://ego4d-data.org/docs/benchmarks/episodic-memory/)\n",
        "- [EvalAI Challenge](https://eval.ai/web/challenges/challenge-page/1629/overview)"
      ],
      "metadata": {
        "id": "lmoup7_Xsbc4"
      }
    },
    {
      "cell_type": "markdown",
      "source": [
        "## Download Data and Setup Environment"
      ],
      "metadata": {
        "id": "XBsjg8pN0knX"
      }
    },
    {
      "cell_type": "markdown",
      "source": [
        "### **Fill In Your Access Info Here**\n",
        "If you don't have access and secret keys, first sign the Ego4D License at [ego4ddataset.com](https://ego4ddataset.com)"
      ],
      "metadata": {
        "id": "FcNVEU5Z8f5p"
      }
    },
    {
      "cell_type": "code",
      "source": [
        "import os\n",
        "os.environ['AWS_ACCESS_KEY_ID'] = \" < insert access key here >\"\n",
        "os.environ['AWS_SECRET_ACCESS_KEY'] = \"< insert secret key here >\""
      ],
      "metadata": {
        "id": "lTSvhBsBvnXy"
      },
      "execution_count": null,
      "outputs": []
    },
    {
      "cell_type": "markdown",
      "source": [
        "### **Set up CLIs and Download Annotations + Repo**"
      ],
      "metadata": {
        "id": "WcIg7gNx82Bq"
      }
    },
    {
      "cell_type": "code",
      "source": [
        "# Download the AWS and Ego4D CLIs, then download the annotations locally\n",
        "%%bash\n",
        "\n",
        "# Set up the AWS CLI\n",
        "curl \"https://awscli.amazonaws.com/awscli-exe-linux-x86_64.zip\" -o \"awscliv2.zip\"\n",
        "unzip -o awscliv2.zip >/dev/null\n",
        "sudo ./aws/install >/dev/null 2>&1\n",
        "aws configure set aws_access_key_id \"$AWS_ACCESS_KEY_ID\" && aws configure set aws_secret_access_key \"$AWS_SECRET_ACCESS_KEY\"\n",
        "rm \"awscliv2.zip\""
      ],
      "metadata": {
        "id": "D-D9Jm-l162m",
        "colab": {
          "base_uri": "https://localhost:8080/"
        },
        "outputId": "2d2c8621-397d-4d3a-8bdb-0a2694e4750b"
      },
      "execution_count": null,
      "outputs": [
        {
          "output_type": "stream",
          "name": "stderr",
          "text": [
            "  % Total    % Received % Xferd  Average Speed   Time    Time     Time  Current\n",
            "                                 Dload  Upload   Total   Spent    Left  Speed\n",
            "\r  0     0    0     0    0     0      0      0 --:--:-- --:--:-- --:--:--     0\r100 45.1M  100 45.1M    0     0   132M      0 --:--:-- --:--:-- --:--:--  132M\n"
          ]
        }
      ]
    },
    {
      "cell_type": "markdown",
      "source": [
        "### Install the ego4d CLI and Download Data"
      ],
      "metadata": {
        "id": "5tXEDSW50Ebd"
      }
    },
    {
      "cell_type": "code",
      "source": [
        "# Set up the Ego4D CLI\n",
        "!pip install ego4d"
      ],
      "metadata": {
        "id": "Jg6Xt1p-On-a"
      },
      "execution_count": null,
      "outputs": []
    },
    {
      "cell_type": "code",
      "source": [
        "# Download the Ego4D Annotations to ego4d_data/\n",
        "!ego4d --output_directory=\"/content/ego4d_data/\" --datasets annotations omnivore_video_swinl_fp16 --benchmarks nlq -y"
      ],
      "metadata": {
        "id": "tcKr9i88KMaa"
      },
      "execution_count": null,
      "outputs": []
    },
    {
      "cell_type": "markdown",
      "source": [
        "### Check Downloaded Files"
      ],
      "metadata": {
        "id": "mBPJoyYD2D7w"
      }
    },
    {
      "cell_type": "code",
      "source": [
        "# Ensure we have downloaded the files correctly\n",
        "!ls /content/ego4d_data/v1/annotations | grep nlq"
      ],
      "metadata": {
        "id": "SS0ADqVR1tkB"
      },
      "execution_count": null,
      "outputs": []
    },
    {
      "cell_type": "code",
      "source": [
        "!ls /content/ego4d_data/v1/omnivore_video_swinl_fp16 | wc -l"
      ],
      "metadata": {
        "id": "kt5hhPdK2C3X",
        "colab": {
          "base_uri": "https://localhost:8080/"
        },
        "outputId": "b79eeef9-3a27-42a3-f38f-a3ec71f28aaf"
      },
      "execution_count": null,
      "outputs": [
        {
          "output_type": "stream",
          "name": "stdout",
          "text": [
            "1260\n"
          ]
        }
      ]
    },
    {
      "cell_type": "markdown",
      "source": [
        "### Clone the Episodic Memory Baseline Repository"
      ],
      "metadata": {
        "id": "wE4fDxQk1KAm"
      }
    },
    {
      "cell_type": "code",
      "source": [
        "%%bash\n",
        "git clone https://github.com/EGO4D/episodic-memory\n",
        "cd episodic-memory\n",
        "git pull\n",
        "git checkout nlq_fixes_and_fp16_support"
      ],
      "metadata": {
        "id": "zApdimh4TQdm"
      },
      "execution_count": null,
      "outputs": []
    },
    {
      "cell_type": "markdown",
      "source": [
        "# Stats for Data"
      ],
      "metadata": {
        "id": "0lenDRgBjWVg"
      }
    },
    {
      "cell_type": "code",
      "source": [
        "import json\n",
        "import numpy as np\n",
        "import matplotlib.pyplot as plt\n",
        "%matplotlib inline"
      ],
      "metadata": {
        "id": "1lg3GlF2q5DS"
      },
      "execution_count": null,
      "outputs": []
    },
    {
      "cell_type": "code",
      "source": [
        "ann_data = json.load(open(\"/content/ego4d_data/v1/annotations/nlq_train.json\"))"
      ],
      "metadata": {
        "id": "_r64o6AajXe3"
      },
      "execution_count": null,
      "outputs": []
    },
    {
      "cell_type": "code",
      "source": [
        "# please see https://ego4d-data.org/docs/data/annotations-schemas/\n",
        "\n",
        "anns = []\n",
        "for vid in ann_data[\"videos\"]:\n",
        "    for clip in vid[\"clips\"]:\n",
        "        for ann in clip[\"annotations\"]:\n",
        "            for query in ann[\"language_queries\"]:\n",
        "                anns.append({\n",
        "                    \"query_start_time_sec\": clip[\"video_start_sec\"],\n",
        "                    \"query_end_time_sec\": clip[\"video_end_sec\"],\n",
        "                    \"query_response_start_time_sec\": query[\"video_start_sec\"],\n",
        "                    \"query_response_end_time_sec\": query[\"video_end_sec\"],\n",
        "                    \"query_template\": query.get(\"template\", None),\n",
        "                    \"query\": query.get(\"query\", None),\n",
        "                })"
      ],
      "metadata": {
        "id": "3gaf-Ly0pDpf"
      },
      "execution_count": null,
      "outputs": []
    },
    {
      "cell_type": "code",
      "source": [
        "num_queries = len(anns)\n",
        "relative_query_sizes = np.array([\n",
        "    (a[\"query_response_end_time_sec\"] - a[\"query_response_start_time_sec\"]) / (a[\"query_end_time_sec\"] - a[\"query_start_time_sec\"])\n",
        "    for a in anns\n",
        "])\n",
        "query_sizes = np.array([\n",
        "    (a[\"query_response_end_time_sec\"] - a[\"query_response_start_time_sec\"])\n",
        "    for a in anns\n",
        "])\n",
        "clip_sizes = np.array([\n",
        "    (a[\"query_end_time_sec\"] - a[\"query_start_time_sec\"])\n",
        "    for a in anns\n",
        "])"
      ],
      "metadata": {
        "id": "MjO16XNNqaRb"
      },
      "execution_count": null,
      "outputs": []
    },
    {
      "cell_type": "markdown",
      "source": [
        "## Query / Response Durations\n",
        "\n",
        "Here we can see that there are some queries with 0s. When training it is reccomended to remove them from the set. For VSLNet you can provide `--remove_empty_queries_from train` to `main.py` (e.g. if you are modifying this codebase)."
      ],
      "metadata": {
        "id": "fCckfo1SsOvJ"
      }
    },
    {
      "cell_type": "code",
      "source": [
        "query_sizes.max(), query_sizes.min(), query_sizes.std()"
      ],
      "metadata": {
        "colab": {
          "base_uri": "https://localhost:8080/"
        },
        "id": "gV5CcoGurjjX",
        "outputId": "e5686fcb-87e5-465c-a5e9-c94688dcfa83"
      },
      "execution_count": null,
      "outputs": [
        {
          "output_type": "execute_result",
          "data": {
            "text/plain": [
              "(480.0, 0.0, 22.82781402544118)"
            ]
          },
          "metadata": {},
          "execution_count": 14
        }
      ]
    },
    {
      "cell_type": "code",
      "source": [
        "# less than or equal to 4 frames => 9% of training data\n",
        "(query_sizes <= 4/30).sum() / len(relative_query_sizes)"
      ],
      "metadata": {
        "colab": {
          "base_uri": "https://localhost:8080/"
        },
        "id": "FpnctDcBsnEy",
        "outputId": "2880fbe4-e5dd-41e9-99db-ed2b2b80fbec"
      },
      "execution_count": null,
      "outputs": [
        {
          "output_type": "execute_result",
          "data": {
            "text/plain": [
              "0.09012039660056657"
            ]
          },
          "metadata": {},
          "execution_count": 15
        }
      ]
    },
    {
      "cell_type": "markdown",
      "source": [
        "## Distribution of Queries (relative)\n",
        "\n",
        "Here is a histogram plot of the relative query size to the clip size."
      ],
      "metadata": {
        "id": "SbHI3vJItI6Y"
      }
    },
    {
      "cell_type": "code",
      "source": [
        "plt.rcParams[\"figure.figsize\"] = (16, 9)"
      ],
      "metadata": {
        "id": "BVMJOWYUt89N"
      },
      "execution_count": null,
      "outputs": []
    },
    {
      "cell_type": "code",
      "source": [
        "plt.hist(relative_query_sizes[relative_query_sizes < 0.2], density=True, bins=128)\n",
        "plt.show()"
      ],
      "metadata": {
        "colab": {
          "base_uri": "https://localhost:8080/",
          "height": 537
        },
        "id": "OLCvNnsHrMoc",
        "outputId": "29b852bf-cdb2-41e7-cd7e-14305c35c3e3"
      },
      "execution_count": null,
      "outputs": [
        {
          "output_type": "display_data",
          "data": {
            "text/plain": [
              "<Figure size 1152x648 with 1 Axes>"
            ],
            "image/png": "[encoded data removed]"
          },
          "metadata": {
            "needs_background": "light"
          }
        }
      ]
    },
    {
      "cell_type": "code",
      "source": [
        "plt.hist(relative_query_sizes[relative_query_sizes > 0.2], density=True, bins=128)\n",
        "plt.show()"
      ],
      "metadata": {
        "colab": {
          "base_uri": "https://localhost:8080/",
          "height": 537
        },
        "id": "Q_fOTeb5r9-a",
        "outputId": "50db9fb4-731b-41e8-af36-7b9f1761762e"
      },
      "execution_count": null,
      "outputs": [
        {
          "output_type": "display_data",
          "data": {
            "text/plain": [
              "<Figure size 1152x648 with 1 Axes>"
            ],
            "image/png": "[encoded data removed]"
          },
          "metadata": {
            "needs_background": "light"
          }
        }
      ]
    },
    {
      "cell_type": "markdown",
      "source": [
        "## Clip Sizes\n",
        "\n",
        "Clips are 522s on average, with most clips being 480s."
      ],
      "metadata": {
        "id": "I-YWfHSiteoC"
      }
    },
    {
      "cell_type": "code",
      "source": [
        "clip_sizes.mean(), clip_sizes.max(), clip_sizes.min(), clip_sizes.std(), np.median(clip_sizes)"
      ],
      "metadata": {
        "colab": {
          "base_uri": "https://localhost:8080/"
        },
        "id": "4H-JCUd1th5Y",
        "outputId": "f82bd24d-b038-4809-abbe-e0b6ec83ffe2"
      },
      "execution_count": null,
      "outputs": [
        {
          "output_type": "execute_result",
          "data": {
            "text/plain": [
              "(522.6759852928087,\n",
              " 1200.0666422526042,\n",
              " 207.16666666666674,\n",
              " 197.6377591205408,\n",
              " 480.0)"
            ]
          },
          "metadata": {},
          "execution_count": 19
        }
      ]
    },
    {
      "cell_type": "code",
      "source": [
        "plt.hist(clip_sizes)\n",
        "plt.show()"
      ],
      "metadata": {
        "colab": {
          "base_uri": "https://localhost:8080/",
          "height": 537
        },
        "id": "nOe9_BVCtZkV",
        "outputId": "5b7b72d9-2e80-4821-d94f-dea92ce8aebb"
      },
      "execution_count": null,
      "outputs": [
        {
          "output_type": "display_data",
          "data": {
            "text/plain": [
              "<Figure size 1152x648 with 1 Axes>"
            ],
            "image/png": "[encoded data removed]"
          },
          "metadata": {
            "needs_background": "light"
          }
        }
      ]
    },
    {
      "cell_type": "markdown",
      "source": [
        "# Prepare Dataset\n",
        "\n",
        "The NLQ baseline repository for VSLNet requires you to prepare the data for training and evaluation purposes. From the [README.md](https://github.com/EGO4D/episodic-memory/blob/main/NLQ/VSLNet/README.md#preparation) we need to run the `prepare_ego4d_dataset.py` script."
      ],
      "metadata": {
        "id": "oPrnrhRRJhdC"
      }
    },
    {
      "cell_type": "markdown",
      "source": [
        "### Setup Environment Variables for NLQ\n",
        "\n",
        "First let's setup some environment variables and setup the paths as NLQ's scripts will expect."
      ],
      "metadata": {
        "id": "0AXdrwdR2W5v"
      }
    },
    {
      "cell_type": "code",
      "source": [
        "with open(\"vars.sh\", \"w\") as out_f:\n",
        "  out_f.write(\"\"\"\n",
        "export NAME=omnivore_video_fp16\n",
        "export TASK_NAME=nlq_official_v1_$NAME\n",
        "export BASE_DIR=data/dataset/nlq_official_v1_$NAME\n",
        "export FEATURE_BASE_DIR=data/features/nlq_official_v1_$NAME/\n",
        "export FEATURE_DIR=$FEATURE_BASE_DIR/video_features\n",
        "export MODEL_BASE_DIR=/content/nlq_official_v1/checkpoints/\n",
        "\n",
        "cd episodic-memory/NLQ/VSLNet\n",
        "\"\"\"\n",
        "  )"
      ],
      "metadata": {
        "id": "kyZZBxFd-DsW"
      },
      "execution_count": null,
      "outputs": []
    },
    {
      "cell_type": "code",
      "source": [
        "%%bash\n",
        "\n",
        "source vars.sh\n",
        "\n",
        "echo $FEATURE_BASE_DIR\n",
        "mkdir -p $FEATURE_BASE_DIR\n",
        "ln -s /content/ego4d_data/v1/omnivore_video_swinl_fp16 $FEATURE_DIR"
      ],
      "metadata": {
        "colab": {
          "base_uri": "https://localhost:8080/"
        },
        "id": "W4rHsY8I5PG8",
        "outputId": "b337a009-d66c-4cbf-f7cd-3f975aec15d7"
      },
      "execution_count": null,
      "outputs": [
        {
          "output_type": "stream",
          "name": "stdout",
          "text": [
            "data/features/nlq_official_v1_omnivore_video_fp16/\n"
          ]
        }
      ]
    },
    {
      "cell_type": "code",
      "source": [
        "%%bash\n",
        "%%capture\n",
        "\n",
        "source vars.sh\n",
        "pip install nltk submitit torch torchaudio torchvision tqdm transformers tensorboard Pillow terminaltables"
      ],
      "metadata": {
        "id": "b6PS8kYR5wHY"
      },
      "execution_count": null,
      "outputs": []
    },
    {
      "cell_type": "markdown",
      "source": [
        "# Train and Evaluation"
      ],
      "metadata": {
        "id": "eMKYQdnHjQCh"
      }
    },
    {
      "cell_type": "markdown",
      "source": [
        "## Run the Prepare Script\n",
        "\n",
        "This script will take a while to run and may not output progress until it is done. Please be patient."
      ],
      "metadata": {
        "id": "r1tuBAxl2hG4"
      }
    },
    {
      "cell_type": "code",
      "source": [
        "%%bash\n",
        "\n",
        "source vars.sh\n",
        "\n",
        "python utils/prepare_ego4d_dataset.py \\\n",
        "    --input_train_split /content/ego4d_data/v1/annotations/nlq_train.json \\\n",
        "    --input_val_split /content/ego4d_data/v1/annotations/nlq_val.json \\\n",
        "    --input_test_split /content/ego4d_data/v1/annotations/nlq_test_unannotated.json \\\n",
        "    --video_feature_read_path $FEATURE_DIR \\\n",
        "    --clip_feature_save_path $FEATURE_BASE_DIR/official \\\n",
        "    --output_save_path $BASE_DIR"
      ],
      "metadata": {
        "id": "xE0gCoFb2kYq",
        "colab": {
          "base_uri": "https://localhost:8080/"
        },
        "outputId": "13725602-3f4e-40f0-e0ec-f0f66dc1c926"
      },
      "execution_count": null,
      "outputs": [
        {
          "output_type": "stream",
          "name": "stdout",
          "text": [
            "Reading [train]: /content/ego4d_data/v1/annotations/nlq_train.json\n",
            "# train: 11291\n",
            "Writing [train]: data/dataset/nlq_official_v1_omnivore_video_fp16/train.json\n",
            "Reading [val]: /content/ego4d_data/v1/annotations/nlq_val.json\n",
            "# val: 3874\n",
            "Writing [val]: data/dataset/nlq_official_v1_omnivore_video_fp16/val.json\n",
            "Reading [test]: /content/ego4d_data/v1/annotations/nlq_test_unannotated.json\n",
            "# test: 4004\n",
            "Writing [test]: data/dataset/nlq_official_v1_omnivore_video_fp16/test.json\n"
          ]
        },
        {
          "output_type": "stream",
          "name": "stderr",
          "text": [
            "\rExtracting features:   0%|          | 0/1659 [00:00<?, ?it/s]\rExtracting features:   0%|          | 2/1659 [00:00<02:26, 11.29it/s]\rExtracting features:   0%|          | 4/1659 [00:00<02:10, 12.69it/s]\rExtracting features:   0%|          | 7/1659 [00:00<01:44, 15.77it/s]\rExtracting features:   1%|          | 9/1659 [00:00<01:45, 15.70it/s]\rExtracting features:   1%|          | 13/1659 [00:00<01:18, 20.94it/s]\rExtracting features:   1%|          | 16/1659 [00:00<01:22, 19.90it/s]\rExtracting features:   1%|          | 20/1659 [00:01<01:09, 23.70it/s]\rExtracting features:   1%|▏         | 23/1659 [00:01<01:31, 17.97it/s]\rExtracting features:   2%|▏         | 26/1659 [00:01<02:20, 11.65it/s]\rExtracting features:   2%|▏         | 28/1659 [00:01<02:34, 10.55it/s]\rExtracting features:   2%|▏         | 30/1659 [00:02<02:18, 11.79it/s]\rExtracting features:   2%|▏         | 32/1659 [00:02<02:22, 11.40it/s]\rExtracting features:   2%|▏         | 34/1659 [00:02<02:40, 10.12it/s]\rExtracting features:   2%|▏         | 37/1659 [00:02<02:49,  9.55it/s]\rExtracting features:   2%|▏         | 39/1659 [00:03<02:28, 10.88it/s]\rExtracting features:   2%|▏         | 41/1659 [00:03<02:11, 12.35it/s]\rExtracting features:   3%|▎         | 43/1659 [00:03<02:05, 12.87it/s]\rExtracting features:   3%|▎         | 45/1659 [00:03<02:24, 11.18it/s]\rExtracting features:   3%|▎         | 47/1659 [00:03<02:17, 11.71it/s]\rExtracting features:   3%|▎         | 49/1659 [00:03<02:12, 12.19it/s]\rExtracting features:   3%|▎         | 51/1659 [00:04<02:38, 10.12it/s]\rExtracting features:   3%|▎         | 53/1659 [00:04<02:27, 10.91it/s]\rExtracting features:   3%|▎         | 57/1659 [00:04<01:38, 16.26it/s]\rExtracting features:   4%|▎         | 61/1659 [00:04<01:21, 19.57it/s]\rExtracting features:   4%|▍         | 64/1659 [00:04<01:20, 19.92it/s]\rExtracting features:   4%|▍         | 67/1659 [00:04<01:37, 16.26it/s]\rExtracting features:   4%|▍         | 69/1659 [00:05<01:43, 15.38it/s]\rExtracting features:   4%|▍         | 71/1659 [00:05<02:00, 13.17it/s]\rExtracting features:   4%|▍         | 73/1659 [00:05<01:51, 14.17it/s]\rExtracting features:   5%|▍         | 75/1659 [00:05<01:58, 13.42it/s]\rExtracting features:   5%|▍         | 78/1659 [00:05<01:45, 15.02it/s]\rExtracting features:   5%|▍         | 80/1659 [00:05<02:15, 11.69it/s]\rExtracting features:   5%|▍         | 82/1659 [00:06<02:07, 12.40it/s]\rExtracting features:   5%|▌         | 84/1659 [00:06<02:15, 11.66it/s]\rExtracting features:   5%|▌         | 86/1659 [00:07<04:39,  5.62it/s]\rExtracting features:   5%|▌         | 88/1659 [00:07<03:52,  6.76it/s]\rExtracting features:   5%|▌         | 91/1659 [00:07<02:49,  9.22it/s]\rExtracting features:   6%|▌         | 93/1659 [00:07<02:26, 10.66it/s]\rExtracting features:   6%|▌         | 95/1659 [00:07<02:32, 10.24it/s]\rExtracting features:   6%|▌         | 97/1659 [00:07<02:19, 11.20it/s]\rExtracting features:   6%|▌         | 99/1659 [00:08<03:28,  7.49it/s]\rExtracting features:   6%|▌         | 103/1659 [00:08<02:14, 11.57it/s]\rExtracting features:   6%|▋         | 106/1659 [00:08<02:09, 11.95it/s]\rExtracting features:   7%|▋         | 108/1659 [00:08<01:58, 13.04it/s]\rExtracting features:   7%|▋         | 112/1659 [00:08<01:40, 15.41it/s]\rExtracting features:   7%|▋         | 114/1659 [00:09<01:39, 15.50it/s]\rExtracting features:   7%|▋         | 117/1659 [00:09<01:27, 17.58it/s]\rExtracting features:   7%|▋         | 119/1659 [00:09<01:30, 17.06it/s]\rExtracting features:   7%|▋         | 121/1659 [00:09<01:34, 16.36it/s]\rExtracting features:   7%|▋         | 123/1659 [00:09<02:06, 12.10it/s]\rExtracting features:   8%|▊         | 125/1659 [00:09<02:07, 12.02it/s]\rExtracting features:   8%|▊         | 129/1659 [00:10<01:47, 14.30it/s]\rExtracting features:   8%|▊         | 132/1659 [00:10<01:33, 16.33it/s]\rExtracting features:   8%|▊         | 134/1659 [00:10<01:48, 14.02it/s]\rExtracting features:   8%|▊         | 136/1659 [00:10<01:46, 14.34it/s]\rExtracting features:   8%|▊         | 138/1659 [00:10<02:17, 11.09it/s]\rExtracting features:   8%|▊         | 140/1659 [00:11<02:11, 11.52it/s]\rExtracting features:   9%|▊         | 142/1659 [00:11<02:21, 10.73it/s]\rExtracting features:   9%|▊         | 144/1659 [00:11<02:40,  9.42it/s]\rExtracting features:   9%|▉         | 146/1659 [00:11<02:29, 10.15it/s]\rExtracting features:   9%|▉         | 149/1659 [00:11<02:00, 12.48it/s]\rExtracting features:   9%|▉         | 152/1659 [00:12<01:46, 14.14it/s]\rExtracting features:   9%|▉         | 155/1659 [00:12<01:40, 14.93it/s]\rExtracting features:  10%|▉         | 158/1659 [00:12<01:34, 15.80it/s]\rExtracting features:  10%|▉         | 160/1659 [00:12<01:33, 16.02it/s]\rExtracting features:  10%|▉         | 162/1659 [00:12<01:58, 12.65it/s]\rExtracting features:  10%|▉         | 164/1659 [00:12<01:51, 13.45it/s]\rExtracting features:  10%|█         | 166/1659 [00:13<02:12, 11.23it/s]\rExtracting features:  10%|█         | 168/1659 [00:13<02:31,  9.87it/s]\rExtracting features:  10%|█         | 171/1659 [00:13<02:12, 11.23it/s]\rExtracting features:  10%|█         | 173/1659 [00:13<02:02, 12.17it/s]\rExtracting features:  11%|█         | 176/1659 [00:13<01:41, 14.60it/s]\rExtracting features:  11%|█         | 179/1659 [00:14<01:51, 13.25it/s]\rExtracting features:  11%|█         | 182/1659 [00:14<01:41, 14.57it/s]\rExtracting features:  11%|█         | 184/1659 [00:14<01:44, 14.18it/s]\rExtracting features:  11%|█         | 186/1659 [00:14<01:43, 14.28it/s]\rExtracting features:  11%|█▏        | 189/1659 [00:14<01:33, 15.69it/s]\rExtracting features:  12%|█▏        | 191/1659 [00:14<01:50, 13.33it/s]\rExtracting features:  12%|█▏        | 193/1659 [00:15<02:16, 10.77it/s]\rExtracting features:  12%|█▏        | 195/1659 [00:15<02:12, 11.04it/s]\rExtracting features:  12%|█▏        | 197/1659 [00:15<02:21, 10.36it/s]\rExtracting features:  12%|█▏        | 200/1659 [00:15<01:55, 12.66it/s]\rExtracting features:  12%|█▏        | 202/1659 [00:15<01:58, 12.33it/s]\rExtracting features:  12%|█▏        | 205/1659 [00:16<01:41, 14.30it/s]\rExtracting features:  12%|█▏        | 207/1659 [00:16<02:54,  8.32it/s]\rExtracting features:  13%|█▎        | 209/1659 [00:16<02:39,  9.11it/s]\rExtracting features:  13%|█▎        | 211/1659 [00:16<02:23, 10.12it/s]\rExtracting features:  13%|█▎        | 214/1659 [00:17<01:50, 13.12it/s]\rExtracting features:  13%|█▎        | 216/1659 [00:17<01:42, 14.01it/s]\rExtracting features:  13%|█▎        | 218/1659 [00:17<02:03, 11.70it/s]\rExtracting features:  13%|█▎        | 221/1659 [00:17<02:02, 11.72it/s]\rExtracting features:  13%|█▎        | 223/1659 [00:17<02:05, 11.44it/s]\rExtracting features:  14%|█▎        | 228/1659 [00:18<01:28, 16.22it/s]\rExtracting features:  14%|█▍        | 230/1659 [00:18<01:27, 16.33it/s]\rExtracting features:  14%|█▍        | 232/1659 [00:18<03:18,  7.19it/s]\rExtracting features:  14%|█▍        | 234/1659 [00:19<04:42,  5.05it/s]\rExtracting features:  14%|█▍        | 235/1659 [00:20<05:02,  4.70it/s]\rExtracting features:  14%|█▍        | 236/1659 [00:20<06:29,  3.65it/s]\rExtracting features:  14%|█▍        | 237/1659 [00:20<06:18,  3.75it/s]\rExtracting features:  14%|█▍        | 238/1659 [00:21<08:22,  2.83it/s]\rExtracting features:  14%|█▍        | 239/1659 [00:22<11:46,  2.01it/s]\rExtracting features:  14%|█▍        | 240/1659 [00:22<09:45,  2.42it/s]\rExtracting features:  15%|█▍        | 244/1659 [00:22<04:29,  5.26it/s]\rExtracting features:  15%|█▍        | 246/1659 [00:22<03:29,  6.73it/s]\rExtracting features:  15%|█▍        | 248/1659 [00:22<02:55,  8.06it/s]\rExtracting features:  15%|█▌        | 251/1659 [00:23<02:06, 11.13it/s]\rExtracting features:  15%|█▌        | 253/1659 [00:23<02:00, 11.64it/s]\rExtracting features:  15%|█▌        | 255/1659 [00:23<02:44,  8.55it/s]\rExtracting features:  15%|█▌        | 257/1659 [00:23<02:32,  9.21it/s]\rExtracting features:  16%|█▌        | 259/1659 [00:23<02:24,  9.70it/s]\rExtracting features:  16%|█▌        | 261/1659 [00:24<04:26,  5.25it/s]\rExtracting features:  16%|█▌        | 264/1659 [00:24<03:12,  7.23it/s]\rExtracting features:  16%|█▌        | 266/1659 [00:25<02:59,  7.77it/s]\rExtracting features:  16%|█▌        | 268/1659 [00:25<03:15,  7.11it/s]\rExtracting features:  16%|█▋        | 271/1659 [00:25<02:19,  9.93it/s]\rExtracting features:  17%|█▋        | 274/1659 [00:25<01:58, 11.65it/s]\rExtracting features:  17%|█▋        | 277/1659 [00:25<01:39, 13.91it/s]\rExtracting features:  17%|█▋        | 279/1659 [00:25<01:33, 14.74it/s]\rExtracting features:  17%|█▋        | 282/1659 [00:26<01:20, 17.00it/s]\rExtracting features:  17%|█▋        | 284/1659 [00:26<01:20, 17.05it/s]\rExtracting features:  17%|█▋        | 286/1659 [00:26<02:34,  8.90it/s]\rExtracting features:  17%|█▋        | 289/1659 [00:26<01:55, 11.85it/s]\rExtracting features:  18%|█▊        | 291/1659 [00:26<01:47, 12.71it/s]\rExtracting features:  18%|█▊        | 294/1659 [00:27<01:26, 15.84it/s]\rExtracting features:  18%|█▊        | 297/1659 [00:27<01:25, 15.90it/s]\rExtracting features:  18%|█▊        | 300/1659 [00:27<01:23, 16.27it/s]\rExtracting features:  18%|█▊        | 303/1659 [00:27<01:34, 14.37it/s]\rExtracting features:  18%|█▊        | 305/1659 [00:27<01:28, 15.26it/s]\rExtracting features:  19%|█▊        | 307/1659 [00:28<01:41, 13.31it/s]\rExtracting features:  19%|█▊        | 309/1659 [00:28<02:46,  8.11it/s]\rExtracting features:  19%|█▉        | 312/1659 [00:28<02:07, 10.58it/s]\rExtracting features:  19%|█▉        | 314/1659 [00:28<02:08, 10.47it/s]\rExtracting features:  19%|█▉        | 317/1659 [00:28<01:39, 13.50it/s]\rExtracting features:  19%|█▉        | 320/1659 [00:29<01:41, 13.26it/s]\rExtracting features:  20%|█▉        | 324/1659 [00:29<01:28, 15.17it/s]\rExtracting features:  20%|█▉        | 326/1659 [00:29<01:35, 13.96it/s]\rExtracting features:  20%|█▉        | 329/1659 [00:29<01:20, 16.54it/s]\rExtracting features:  20%|█▉        | 331/1659 [00:29<01:17, 17.15it/s]\rExtracting features:  20%|██        | 333/1659 [00:30<01:30, 14.59it/s]\rExtracting features:  20%|██        | 336/1659 [00:30<01:20, 16.43it/s]\rExtracting features:  20%|██        | 338/1659 [00:30<01:50, 12.00it/s]\rExtracting features:  20%|██        | 340/1659 [00:30<01:40, 13.06it/s]\rExtracting features:  21%|██        | 342/1659 [00:30<02:06, 10.38it/s]\rExtracting features:  21%|██        | 345/1659 [00:31<01:56, 11.29it/s]\rExtracting features:  21%|██        | 347/1659 [00:31<02:00, 10.89it/s]\rExtracting features:  21%|██        | 349/1659 [00:31<03:17,  6.64it/s]\rExtracting features:  21%|██        | 352/1659 [00:32<02:22,  9.17it/s]\rExtracting features:  21%|██▏       | 355/1659 [00:32<02:01, 10.71it/s]\rExtracting features:  22%|██▏       | 358/1659 [00:32<01:38, 13.18it/s]\rExtracting features:  22%|██▏       | 361/1659 [00:32<01:26, 14.94it/s]\rExtracting features:  22%|██▏       | 363/1659 [00:32<01:23, 15.49it/s]\rExtracting features:  22%|██▏       | 367/1659 [00:32<01:06, 19.57it/s]\rExtracting features:  22%|██▏       | 370/1659 [00:32<01:21, 15.86it/s]\rExtracting features:  22%|██▏       | 372/1659 [00:33<01:21, 15.77it/s]\rExtracting features:  23%|██▎       | 375/1659 [00:33<01:17, 16.51it/s]\rExtracting features:  23%|██▎       | 377/1659 [00:33<01:25, 14.96it/s]\rExtracting features:  23%|██▎       | 379/1659 [00:33<01:28, 14.38it/s]\rExtracting features:  23%|██▎       | 382/1659 [00:33<01:22, 15.56it/s]\rExtracting features:  23%|██▎       | 384/1659 [00:33<01:20, 15.76it/s]\rExtracting features:  23%|██▎       | 387/1659 [00:34<01:18, 16.30it/s]\rExtracting features:  24%|██▎       | 390/1659 [00:34<01:25, 14.78it/s]\rExtracting features:  24%|██▎       | 394/1659 [00:34<01:15, 16.83it/s]\rExtracting features:  24%|██▍       | 396/1659 [00:34<01:15, 16.77it/s]\rExtracting features:  24%|██▍       | 399/1659 [00:34<01:14, 16.93it/s]\rExtracting features:  24%|██▍       | 401/1659 [00:34<01:18, 16.08it/s]\rExtracting features:  24%|██▍       | 404/1659 [00:35<01:06, 18.95it/s]\rExtracting features:  25%|██▍       | 407/1659 [00:35<01:33, 13.41it/s]\rExtracting features:  25%|██▍       | 410/1659 [00:35<01:21, 15.29it/s]\rExtracting features:  25%|██▍       | 412/1659 [00:35<01:38, 12.68it/s]\rExtracting features:  25%|██▍       | 414/1659 [00:36<01:52, 11.09it/s]\rExtracting features:  25%|██▌       | 417/1659 [00:36<01:40, 12.41it/s]\rExtracting features:  25%|██▌       | 419/1659 [00:36<01:55, 10.70it/s]\rExtracting features:  25%|██▌       | 422/1659 [00:36<01:31, 13.56it/s]\rExtracting features:  26%|██▌       | 424/1659 [00:37<02:40,  7.71it/s]\rExtracting features:  26%|██▌       | 426/1659 [00:37<02:21,  8.74it/s]\rExtracting features:  26%|██▌       | 429/1659 [00:37<01:50, 11.14it/s]\rExtracting features:  26%|██▌       | 431/1659 [00:37<01:42, 11.94it/s]\rExtracting features:  26%|██▌       | 433/1659 [00:37<01:35, 12.85it/s]\rExtracting features:  26%|██▋       | 436/1659 [00:37<01:19, 15.48it/s]\rExtracting features:  26%|██▋       | 438/1659 [00:37<01:15, 16.28it/s]\rExtracting features:  27%|██▋       | 440/1659 [00:38<02:51,  7.09it/s]\rExtracting features:  27%|██▋       | 442/1659 [00:38<02:50,  7.15it/s]\rExtracting features:  27%|██▋       | 445/1659 [00:39<02:27,  8.22it/s]\rExtracting features:  27%|██▋       | 449/1659 [00:39<01:41, 11.97it/s]\rExtracting features:  27%|██▋       | 452/1659 [00:39<01:24, 14.25it/s]\rExtracting features:  27%|██▋       | 455/1659 [00:39<01:27, 13.70it/s]\rExtracting features:  28%|██▊       | 457/1659 [00:39<01:25, 14.10it/s]\rExtracting features:  28%|██▊       | 459/1659 [00:40<01:34, 12.70it/s]\rExtracting features:  28%|██▊       | 461/1659 [00:40<01:26, 13.81it/s]\rExtracting features:  28%|██▊       | 463/1659 [00:40<01:48, 10.98it/s]\rExtracting features:  28%|██▊       | 465/1659 [00:40<01:37, 12.26it/s]\rExtracting features:  28%|██▊       | 467/1659 [00:40<01:30, 13.18it/s]\rExtracting features:  28%|██▊       | 470/1659 [00:41<01:54, 10.36it/s]\rExtracting features:  29%|██▊       | 473/1659 [00:41<01:32, 12.88it/s]\rExtracting features:  29%|██▊       | 475/1659 [00:41<01:52, 10.54it/s]\rExtracting features:  29%|██▉       | 477/1659 [00:41<02:21,  8.33it/s]\rExtracting features:  29%|██▉       | 480/1659 [00:42<01:51, 10.53it/s]\rExtracting features:  29%|██▉       | 482/1659 [00:42<01:51, 10.51it/s]\rExtracting features:  29%|██▉       | 484/1659 [00:42<01:41, 11.61it/s]\rExtracting features:  29%|██▉       | 486/1659 [00:42<01:34, 12.38it/s]\rExtracting features:  29%|██▉       | 489/1659 [00:42<01:36, 12.09it/s]\rExtracting features:  30%|██▉       | 491/1659 [00:42<01:27, 13.38it/s]\rExtracting features:  30%|██▉       | 494/1659 [00:43<01:37, 11.94it/s]\rExtracting features:  30%|██▉       | 496/1659 [00:43<01:38, 11.82it/s]\rExtracting features:  30%|███       | 498/1659 [00:43<01:31, 12.72it/s]\rExtracting features:  30%|███       | 501/1659 [00:43<01:31, 12.72it/s]\rExtracting features:  30%|███       | 503/1659 [00:43<01:30, 12.79it/s]\rExtracting features:  30%|███       | 505/1659 [00:43<01:27, 13.16it/s]\rExtracting features:  31%|███       | 508/1659 [00:44<01:29, 12.88it/s]\rExtracting features:  31%|███       | 511/1659 [00:44<01:27, 13.10it/s]\rExtracting features:  31%|███       | 514/1659 [00:44<01:15, 15.15it/s]\rExtracting features:  31%|███       | 516/1659 [00:44<01:20, 14.12it/s]\rExtracting features:  31%|███▏      | 519/1659 [00:44<01:11, 16.00it/s]\rExtracting features:  31%|███▏      | 521/1659 [00:44<01:13, 15.56it/s]\rExtracting features:  32%|███▏      | 525/1659 [00:45<01:02, 18.23it/s]\rExtracting features:  32%|███▏      | 527/1659 [00:45<01:12, 15.70it/s]\rExtracting features:  32%|███▏      | 531/1659 [00:45<00:55, 20.35it/s]\rExtracting features:  32%|███▏      | 534/1659 [00:45<00:54, 20.64it/s]\rExtracting features:  32%|███▏      | 537/1659 [00:45<01:00, 18.57it/s]\rExtracting features:  33%|███▎      | 540/1659 [00:46<01:24, 13.25it/s]\rExtracting features:  33%|███▎      | 543/1659 [00:46<01:19, 14.00it/s]\rExtracting features:  33%|███▎      | 545/1659 [00:46<01:18, 14.25it/s]\rExtracting features:  33%|███▎      | 547/1659 [00:46<02:06,  8.77it/s]\rExtracting features:  33%|███▎      | 549/1659 [00:47<01:49, 10.17it/s]\rExtracting features:  33%|███▎      | 551/1659 [00:47<01:51,  9.94it/s]\rExtracting features:  33%|███▎      | 553/1659 [00:47<01:38, 11.21it/s]\rExtracting features:  33%|███▎      | 555/1659 [00:47<01:49, 10.04it/s]\rExtracting features:  34%|███▎      | 557/1659 [00:48<02:17,  8.02it/s]\rExtracting features:  34%|███▍      | 560/1659 [00:48<01:51,  9.84it/s]\rExtracting features:  34%|███▍      | 562/1659 [00:48<01:44, 10.48it/s]\rExtracting features:  34%|███▍      | 564/1659 [00:48<01:51,  9.84it/s]\rExtracting features:  34%|███▍      | 566/1659 [00:48<01:35, 11.39it/s]\rExtracting features:  34%|███▍      | 569/1659 [00:49<01:35, 11.47it/s]\rExtracting features:  34%|███▍      | 571/1659 [00:49<01:41, 10.69it/s]\rExtracting features:  35%|███▍      | 573/1659 [00:49<01:41, 10.70it/s]\rExtracting features:  35%|███▍      | 577/1659 [00:49<01:18, 13.71it/s]\rExtracting features:  35%|███▍      | 580/1659 [00:49<01:05, 16.38it/s]\rExtracting features:  35%|███▌      | 582/1659 [00:49<01:12, 14.90it/s]\rExtracting features:  35%|███▌      | 585/1659 [00:50<01:02, 17.22it/s]\rExtracting features:  35%|███▌      | 587/1659 [00:50<01:13, 14.55it/s]\rExtracting features:  36%|███▌      | 589/1659 [00:50<01:34, 11.30it/s]\rExtracting features:  36%|███▌      | 592/1659 [00:50<01:17, 13.85it/s]\rExtracting features:  36%|███▌      | 594/1659 [00:50<01:20, 13.18it/s]\rExtracting features:  36%|███▌      | 597/1659 [00:50<01:14, 14.25it/s]\rExtracting features:  36%|███▌      | 599/1659 [00:51<01:25, 12.41it/s]\rExtracting features:  36%|███▌      | 601/1659 [00:51<01:26, 12.27it/s]\rExtracting features:  36%|███▋      | 603/1659 [00:51<01:22, 12.83it/s]\rExtracting features:  36%|███▋      | 605/1659 [00:51<01:25, 12.36it/s]\rExtracting features:  37%|███▋      | 608/1659 [00:51<01:07, 15.63it/s]\rExtracting features:  37%|███▋      | 612/1659 [00:52<01:14, 14.00it/s]\rExtracting features:  37%|███▋      | 614/1659 [00:52<01:11, 14.67it/s]\rExtracting features:  37%|███▋      | 616/1659 [00:52<01:14, 14.04it/s]\rExtracting features:  37%|███▋      | 618/1659 [00:52<01:14, 13.93it/s]\rExtracting features:  37%|███▋      | 621/1659 [00:52<01:05, 15.94it/s]\rExtracting features:  38%|███▊      | 624/1659 [00:52<00:54, 18.82it/s]\rExtracting features:  38%|███▊      | 627/1659 [00:53<01:01, 16.68it/s]\rExtracting features:  38%|███▊      | 629/1659 [00:53<01:09, 14.76it/s]\rExtracting features:  38%|███▊      | 631/1659 [00:53<01:11, 14.41it/s]\rExtracting features:  38%|███▊      | 633/1659 [00:53<01:13, 13.94it/s]\rExtracting features:  38%|███▊      | 636/1659 [00:53<01:17, 13.26it/s]\rExtracting features:  38%|███▊      | 638/1659 [00:54<01:34, 10.78it/s]\rExtracting features:  39%|███▊      | 641/1659 [00:54<01:13, 13.77it/s]\rExtracting features:  39%|███▉      | 643/1659 [00:54<02:04,  8.13it/s]\rExtracting features:  39%|███▉      | 645/1659 [00:54<01:57,  8.63it/s]\rExtracting features:  39%|███▉      | 647/1659 [00:55<01:54,  8.83it/s]\rExtracting features:  39%|███▉      | 649/1659 [00:55<01:47,  9.35it/s]\rExtracting features:  39%|███▉      | 651/1659 [00:55<01:37, 10.39it/s]\rExtracting features:  39%|███▉      | 654/1659 [00:55<01:17, 13.02it/s]\rExtracting features:  40%|███▉      | 656/1659 [00:55<01:10, 14.16it/s]\rExtracting features:  40%|███▉      | 658/1659 [00:55<01:09, 14.32it/s]\rExtracting features:  40%|███▉      | 660/1659 [00:56<01:22, 12.14it/s]\rExtracting features:  40%|███▉      | 662/1659 [00:56<01:23, 11.96it/s]\rExtracting features:  40%|████      | 664/1659 [00:56<01:42,  9.71it/s]\rExtracting features:  40%|████      | 666/1659 [00:56<02:07,  7.80it/s]\rExtracting features:  40%|████      | 669/1659 [00:56<01:32, 10.69it/s]\rExtracting features:  40%|████      | 671/1659 [00:57<01:23, 11.88it/s]\rExtracting features:  41%|████      | 673/1659 [00:57<01:17, 12.67it/s]\rExtracting features:  41%|████      | 675/1659 [00:57<01:10, 14.03it/s]\rExtracting features:  41%|████      | 677/1659 [00:57<01:37, 10.05it/s]\rExtracting features:  41%|████      | 679/1659 [00:57<01:23, 11.75it/s]\rExtracting features:  41%|████      | 682/1659 [00:58<01:42,  9.52it/s]\rExtracting features:  41%|████      | 684/1659 [00:58<01:40,  9.73it/s]\rExtracting features:  41%|████▏     | 686/1659 [00:58<01:39,  9.82it/s]\rExtracting features:  42%|████▏     | 689/1659 [00:58<01:22, 11.69it/s]\rExtracting features:  42%|████▏     | 691/1659 [00:58<01:17, 12.56it/s]\rExtracting features:  42%|████▏     | 693/1659 [00:59<01:14, 13.03it/s]\rExtracting features:  42%|████▏     | 697/1659 [00:59<00:55, 17.41it/s]\rExtracting features:  42%|████▏     | 701/1659 [00:59<00:45, 21.16it/s]\rExtracting features:  42%|████▏     | 704/1659 [00:59<00:54, 17.56it/s]\rExtracting features:  43%|████▎     | 706/1659 [00:59<00:58, 16.19it/s]\rExtracting features:  43%|████▎     | 709/1659 [00:59<01:00, 15.75it/s]\rExtracting features:  43%|████▎     | 712/1659 [01:00<01:00, 15.58it/s]\rExtracting features:  43%|████▎     | 715/1659 [01:00<01:01, 15.31it/s]\rExtracting features:  43%|████▎     | 717/1659 [01:00<01:00, 15.62it/s]\rExtracting features:  43%|████▎     | 719/1659 [01:00<00:58, 15.99it/s]\rExtracting features:  43%|████▎     | 721/1659 [01:00<01:01, 15.36it/s]\rExtracting features:  44%|████▎     | 724/1659 [01:00<00:59, 15.75it/s]\rExtracting features:  44%|████▍     | 727/1659 [01:00<00:54, 17.01it/s]\rExtracting features:  44%|████▍     | 731/1659 [01:01<00:46, 20.06it/s]\rExtracting features:  44%|████▍     | 734/1659 [01:01<01:04, 14.42it/s]\rExtracting features:  44%|████▍     | 736/1659 [01:01<01:08, 13.51it/s]\rExtracting features:  45%|████▍     | 740/1659 [01:01<00:56, 16.37it/s]\rExtracting features:  45%|████▍     | 742/1659 [01:01<00:56, 16.21it/s]\rExtracting features:  45%|████▍     | 744/1659 [01:02<00:56, 16.18it/s]\rExtracting features:  45%|████▌     | 747/1659 [01:02<01:05, 13.86it/s]\rExtracting features:  45%|████▌     | 749/1659 [01:02<01:06, 13.62it/s]\rExtracting features:  45%|████▌     | 751/1659 [01:02<01:10, 12.79it/s]\rExtracting features:  45%|████▌     | 754/1659 [01:02<00:57, 15.68it/s]\rExtracting features:  46%|████▌     | 756/1659 [01:03<01:10, 12.87it/s]\rExtracting features:  46%|████▌     | 758/1659 [01:03<01:13, 12.29it/s]\rExtracting features:  46%|████▌     | 760/1659 [01:03<01:12, 12.46it/s]\rExtracting features:  46%|████▌     | 762/1659 [01:03<01:09, 12.83it/s]\rExtracting features:  46%|████▌     | 765/1659 [01:03<01:00, 14.78it/s]\rExtracting features:  46%|████▋     | 770/1659 [01:03<00:41, 21.45it/s]\rExtracting features:  47%|████▋     | 774/1659 [01:03<00:36, 24.45it/s]\rExtracting features:  47%|████▋     | 777/1659 [01:04<00:44, 19.82it/s]\rExtracting features:  47%|████▋     | 780/1659 [01:04<00:49, 17.77it/s]\rExtracting features:  47%|████▋     | 782/1659 [01:04<00:48, 18.01it/s]\rExtracting features:  47%|████▋     | 784/1659 [01:04<01:20, 10.93it/s]\rExtracting features:  47%|████▋     | 788/1659 [01:04<00:58, 14.99it/s]\rExtracting features:  48%|████▊     | 791/1659 [01:05<00:50, 17.05it/s]\rExtracting features:  48%|████▊     | 794/1659 [01:05<00:45, 18.93it/s]\rExtracting features:  48%|████▊     | 797/1659 [01:05<00:45, 18.79it/s]\rExtracting features:  48%|████▊     | 800/1659 [01:05<00:42, 20.32it/s]\rExtracting features:  48%|████▊     | 803/1659 [01:05<00:39, 21.64it/s]\rExtracting features:  49%|████▊     | 806/1659 [01:05<00:37, 22.55it/s]\rExtracting features:  49%|████▉     | 809/1659 [01:05<00:39, 21.56it/s]\rExtracting features:  49%|████▉     | 812/1659 [01:06<00:41, 20.44it/s]\rExtracting features:  49%|████▉     | 817/1659 [01:06<00:36, 23.38it/s]\rExtracting features:  49%|████▉     | 820/1659 [01:06<00:40, 20.92it/s]\rExtracting features:  50%|████▉     | 823/1659 [01:06<00:38, 21.62it/s]\rExtracting features:  50%|████▉     | 826/1659 [01:07<01:17, 10.69it/s]\rExtracting features:  50%|████▉     | 829/1659 [01:07<01:05, 12.75it/s]\rExtracting features:  50%|█████     | 831/1659 [01:07<01:04, 12.87it/s]\rExtracting features:  50%|█████     | 834/1659 [01:07<00:57, 14.28it/s]\rExtracting features:  50%|█████     | 836/1659 [01:07<00:57, 14.39it/s]\rExtracting features:  51%|█████     | 838/1659 [01:07<00:54, 14.93it/s]\rExtracting features:  51%|█████     | 840/1659 [01:07<00:51, 15.98it/s]\rExtracting features:  51%|█████     | 843/1659 [01:08<00:56, 14.53it/s]\rExtracting features:  51%|█████     | 845/1659 [01:08<00:56, 14.43it/s]\rExtracting features:  51%|█████     | 847/1659 [01:08<01:12, 11.22it/s]\rExtracting features:  51%|█████     | 850/1659 [01:08<00:58, 13.82it/s]\rExtracting features:  51%|█████▏    | 854/1659 [01:08<00:47, 16.80it/s]\rExtracting features:  52%|█████▏    | 856/1659 [01:09<01:01, 13.14it/s]\rExtracting features:  52%|█████▏    | 858/1659 [01:09<00:55, 14.31it/s]\rExtracting features:  52%|█████▏    | 860/1659 [01:09<00:58, 13.57it/s]\rExtracting features:  52%|█████▏    | 862/1659 [01:09<00:57, 13.86it/s]\rExtracting features:  52%|█████▏    | 865/1659 [01:09<01:00, 13.14it/s]\rExtracting features:  52%|█████▏    | 868/1659 [01:10<00:52, 15.15it/s]\rExtracting features:  52%|█████▏    | 870/1659 [01:10<00:54, 14.53it/s]\rExtracting features:  53%|█████▎    | 873/1659 [01:10<00:48, 16.33it/s]\rExtracting features:  53%|█████▎    | 875/1659 [01:10<00:46, 16.83it/s]\rExtracting features:  53%|█████▎    | 877/1659 [01:10<00:46, 16.89it/s]\rExtracting features:  53%|█████▎    | 879/1659 [01:10<00:44, 17.46it/s]\rExtracting features:  53%|█████▎    | 881/1659 [01:10<00:56, 13.75it/s]\rExtracting features:  53%|█████▎    | 883/1659 [01:10<00:51, 14.94it/s]\rExtracting features:  53%|█████▎    | 885/1659 [01:11<01:01, 12.61it/s]\rExtracting features:  53%|█████▎    | 887/1659 [01:11<00:55, 13.84it/s]\rExtracting features:  54%|█████▎    | 889/1659 [01:11<00:55, 13.94it/s]\rExtracting features:  54%|█████▍    | 893/1659 [01:11<00:40, 19.09it/s]\rExtracting features:  54%|█████▍    | 896/1659 [01:11<00:38, 19.59it/s]\rExtracting features:  54%|█████▍    | 899/1659 [01:12<01:22,  9.25it/s]\rExtracting features:  54%|█████▍    | 902/1659 [01:12<01:32,  8.21it/s]\rExtracting features:  54%|█████▍    | 904/1659 [01:13<01:27,  8.65it/s]\rExtracting features:  55%|█████▍    | 906/1659 [01:13<01:33,  8.09it/s]\rExtracting features:  55%|█████▍    | 908/1659 [01:13<01:28,  8.51it/s]\rExtracting features:  55%|█████▍    | 910/1659 [01:13<01:14, 10.07it/s]\rExtracting features:  55%|█████▍    | 912/1659 [01:13<01:21,  9.22it/s]\rExtracting features:  55%|█████▌    | 915/1659 [01:13<01:01, 12.17it/s]\rExtracting features:  55%|█████▌    | 917/1659 [01:14<01:02, 11.89it/s]\rExtracting features:  55%|█████▌    | 920/1659 [01:14<00:50, 14.63it/s]\rExtracting features:  56%|█████▌    | 922/1659 [01:14<00:55, 13.35it/s]\rExtracting features:  56%|█████▌    | 925/1659 [01:14<00:54, 13.44it/s]\rExtracting features:  56%|█████▌    | 927/1659 [01:14<00:54, 13.50it/s]\rExtracting features:  56%|█████▌    | 929/1659 [01:14<00:51, 14.22it/s]\rExtracting features:  56%|█████▌    | 932/1659 [01:15<00:42, 17.20it/s]\rExtracting features:  56%|█████▋    | 935/1659 [01:15<00:40, 18.08it/s]\rExtracting features:  57%|█████▋    | 939/1659 [01:15<00:33, 21.35it/s]\rExtracting features:  57%|█████▋    | 942/1659 [01:15<00:34, 20.96it/s]\rExtracting features:  57%|█████▋    | 945/1659 [01:15<00:36, 19.57it/s]\rExtracting features:  57%|█████▋    | 948/1659 [01:15<00:43, 16.29it/s]\rExtracting features:  57%|█████▋    | 950/1659 [01:16<00:56, 12.45it/s]\rExtracting features:  57%|█████▋    | 952/1659 [01:16<00:53, 13.32it/s]\rExtracting features:  58%|█████▊    | 955/1659 [01:16<00:44, 15.98it/s]\rExtracting features:  58%|█████▊    | 957/1659 [01:17<01:31,  7.67it/s]\rExtracting features:  58%|█████▊    | 961/1659 [01:17<01:09, 10.02it/s]\rExtracting features:  58%|█████▊    | 963/1659 [01:17<01:07, 10.39it/s]\rExtracting features:  58%|█████▊    | 966/1659 [01:17<00:53, 13.02it/s]\rExtracting features:  58%|█████▊    | 969/1659 [01:17<00:44, 15.54it/s]\rExtracting features:  59%|█████▊    | 972/1659 [01:18<00:53, 12.94it/s]\rExtracting features:  59%|█████▊    | 974/1659 [01:18<00:56, 12.05it/s]\rExtracting features:  59%|█████▉    | 976/1659 [01:18<00:53, 12.85it/s]\rExtracting features:  59%|█████▉    | 978/1659 [01:18<00:59, 11.42it/s]\rExtracting features:  59%|█████▉    | 980/1659 [01:18<00:58, 11.64it/s]\rExtracting features:  59%|█████▉    | 982/1659 [01:18<00:57, 11.84it/s]\rExtracting features:  59%|█████▉    | 984/1659 [01:19<00:51, 13.08it/s]\rExtracting features:  59%|█████▉    | 987/1659 [01:19<00:43, 15.28it/s]\rExtracting features:  60%|█████▉    | 989/1659 [01:19<00:50, 13.29it/s]\rExtracting features:  60%|█████▉    | 991/1659 [01:19<00:58, 11.50it/s]\rExtracting features:  60%|█████▉    | 993/1659 [01:19<01:00, 11.02it/s]\rExtracting features:  60%|█████▉    | 995/1659 [01:19<00:53, 12.34it/s]\rExtracting features:  60%|██████    | 997/1659 [01:20<00:55, 11.94it/s]\rExtracting features:  60%|██████    | 999/1659 [01:20<01:02, 10.61it/s]\rExtracting features:  60%|██████    | 1001/1659 [01:20<00:54, 12.06it/s]\rExtracting features:  61%|██████    | 1004/1659 [01:20<00:42, 15.40it/s]\rExtracting features:  61%|██████    | 1008/1659 [01:20<00:33, 19.70it/s]\rExtracting features:  61%|██████    | 1011/1659 [01:21<00:51, 12.67it/s]\rExtracting features:  61%|██████    | 1013/1659 [01:21<00:49, 13.11it/s]\rExtracting features:  61%|██████    | 1015/1659 [01:21<00:57, 11.14it/s]\rExtracting features:  61%|██████▏   | 1017/1659 [01:21<00:54, 11.87it/s]\rExtracting features:  61%|██████▏   | 1019/1659 [01:22<01:05,  9.71it/s]\rExtracting features:  62%|██████▏   | 1022/1659 [01:22<00:57, 11.10it/s]\rExtracting features:  62%|██████▏   | 1025/1659 [01:22<00:46, 13.59it/s]\rExtracting features:  62%|██████▏   | 1028/1659 [01:22<00:39, 15.99it/s]\rExtracting features:  62%|██████▏   | 1030/1659 [01:22<00:38, 16.42it/s]\rExtracting features:  62%|██████▏   | 1032/1659 [01:22<00:39, 15.90it/s]\rExtracting features:  62%|██████▏   | 1034/1659 [01:23<00:55, 11.32it/s]\rExtracting features:  62%|██████▏   | 1036/1659 [01:23<00:50, 12.38it/s]\rExtracting features:  63%|██████▎   | 1038/1659 [01:23<00:47, 13.10it/s]\rExtracting features:  63%|██████▎   | 1040/1659 [01:23<00:55, 11.13it/s]\rExtracting features:  63%|██████▎   | 1042/1659 [01:23<00:56, 11.00it/s]\rExtracting features:  63%|██████▎   | 1045/1659 [01:24<00:58, 10.48it/s]\rExtracting features:  63%|██████▎   | 1047/1659 [01:24<00:54, 11.17it/s]\rExtracting features:  63%|██████▎   | 1049/1659 [01:24<00:56, 10.71it/s]\rExtracting features:  63%|██████▎   | 1051/1659 [01:24<00:50, 12.04it/s]\rExtracting features:  64%|██████▎   | 1054/1659 [01:24<00:52, 11.48it/s]\rExtracting features:  64%|██████▎   | 1056/1659 [01:24<00:54, 11.11it/s]\rExtracting features:  64%|██████▍   | 1059/1659 [01:25<00:42, 13.96it/s]\rExtracting features:  64%|██████▍   | 1061/1659 [01:25<00:42, 14.03it/s]\rExtracting features:  64%|██████▍   | 1063/1659 [01:25<00:40, 14.65it/s]\rExtracting features:  64%|██████▍   | 1065/1659 [01:25<00:48, 12.29it/s]\rExtracting features:  64%|██████▍   | 1069/1659 [01:25<00:36, 16.04it/s]\rExtracting features:  65%|██████▍   | 1073/1659 [01:25<00:30, 19.33it/s]\rExtracting features:  65%|██████▍   | 1076/1659 [01:26<00:33, 17.48it/s]\rExtracting features:  65%|██████▍   | 1078/1659 [01:26<00:35, 16.57it/s]\rExtracting features:  65%|██████▌   | 1080/1659 [01:26<00:37, 15.52it/s]\rExtracting features:  65%|██████▌   | 1082/1659 [01:26<00:35, 16.16it/s]\rExtracting features:  65%|██████▌   | 1084/1659 [01:26<00:35, 16.26it/s]\rExtracting features:  65%|██████▌   | 1086/1659 [01:26<00:42, 13.54it/s]\rExtracting features:  66%|██████▌   | 1088/1659 [01:27<00:45, 12.54it/s]\rExtracting features:  66%|██████▌   | 1090/1659 [01:27<00:44, 12.91it/s]\rExtracting features:  66%|██████▌   | 1092/1659 [01:27<00:40, 14.03it/s]\rExtracting features:  66%|██████▌   | 1094/1659 [01:27<00:39, 14.40it/s]\rExtracting features:  66%|██████▌   | 1096/1659 [01:27<00:42, 13.25it/s]\rExtracting features:  66%|██████▌   | 1099/1659 [01:27<00:35, 15.74it/s]\rExtracting features:  66%|██████▋   | 1101/1659 [01:27<00:35, 15.64it/s]\rExtracting features:  67%|██████▋   | 1104/1659 [01:27<00:29, 18.64it/s]\rExtracting features:  67%|██████▋   | 1107/1659 [01:28<00:34, 15.93it/s]\rExtracting features:  67%|██████▋   | 1109/1659 [01:28<00:39, 13.83it/s]\rExtracting features:  67%|██████▋   | 1113/1659 [01:28<00:30, 17.84it/s]\rExtracting features:  67%|██████▋   | 1115/1659 [01:28<00:32, 16.82it/s]\rExtracting features:  67%|██████▋   | 1117/1659 [01:28<00:39, 13.67it/s]\rExtracting features:  68%|██████▊   | 1120/1659 [01:29<00:32, 16.57it/s]\rExtracting features:  68%|██████▊   | 1123/1659 [01:29<00:27, 19.20it/s]\rExtracting features:  68%|██████▊   | 1126/1659 [01:29<00:29, 18.19it/s]\rExtracting features:  68%|██████▊   | 1129/1659 [01:29<00:25, 20.63it/s]\rExtracting features:  68%|██████▊   | 1132/1659 [01:29<00:33, 15.75it/s]\rExtracting features:  68%|██████▊   | 1134/1659 [01:29<00:36, 14.38it/s]\rExtracting features:  69%|██████▊   | 1137/1659 [01:30<00:35, 14.54it/s]\rExtracting features:  69%|██████▉   | 1141/1659 [01:30<00:30, 17.21it/s]\rExtracting features:  69%|██████▉   | 1143/1659 [01:30<00:29, 17.64it/s]\rExtracting features:  69%|██████▉   | 1146/1659 [01:30<00:26, 19.35it/s]\rExtracting features:  69%|██████▉   | 1149/1659 [01:30<00:27, 18.56it/s]\rExtracting features:  69%|██████▉   | 1151/1659 [01:30<00:28, 17.89it/s]\rExtracting features:  69%|██████▉   | 1153/1659 [01:30<00:27, 18.24it/s]\rExtracting features:  70%|██████▉   | 1155/1659 [01:30<00:27, 18.66it/s]\rExtracting features:  70%|██████▉   | 1157/1659 [01:31<00:27, 18.16it/s]\rExtracting features:  70%|██████▉   | 1159/1659 [01:31<00:28, 17.84it/s]\rExtracting features:  70%|██████▉   | 1161/1659 [01:31<00:34, 14.33it/s]\rExtracting features:  70%|███████   | 1163/1659 [01:31<00:38, 12.90it/s]\rExtracting features:  70%|███████   | 1165/1659 [01:31<00:34, 14.17it/s]\rExtracting features:  70%|███████   | 1167/1659 [01:32<01:19,  6.19it/s]\rExtracting features:  71%|███████   | 1170/1659 [01:32<01:00,  8.11it/s]\rExtracting features:  71%|███████   | 1172/1659 [01:32<00:50,  9.65it/s]\rExtracting features:  71%|███████   | 1174/1659 [01:32<00:43, 11.18it/s]\rExtracting features:  71%|███████   | 1176/1659 [01:32<00:39, 12.28it/s]\rExtracting features:  71%|███████   | 1178/1659 [01:33<00:44, 10.90it/s]\rExtracting features:  71%|███████   | 1180/1659 [01:33<01:01,  7.85it/s]\rExtracting features:  71%|███████   | 1182/1659 [01:33<00:53,  8.88it/s]\rExtracting features:  71%|███████▏  | 1185/1659 [01:33<00:39, 12.06it/s]\rExtracting features:  72%|███████▏  | 1187/1659 [01:34<00:38, 12.26it/s]\rExtracting features:  72%|███████▏  | 1189/1659 [01:34<00:35, 13.32it/s]\rExtracting features:  72%|███████▏  | 1191/1659 [01:34<00:38, 12.10it/s]\rExtracting features:  72%|███████▏  | 1193/1659 [01:34<00:37, 12.47it/s]\rExtracting features:  72%|███████▏  | 1195/1659 [01:34<00:40, 11.52it/s]\rExtracting features:  72%|███████▏  | 1198/1659 [01:34<00:35, 13.10it/s]\rExtracting features:  72%|███████▏  | 1202/1659 [01:35<00:26, 17.30it/s]\rExtracting features:  73%|███████▎  | 1204/1659 [01:35<00:25, 17.84it/s]\rExtracting features:  73%|███████▎  | 1206/1659 [01:35<00:28, 16.11it/s]\rExtracting features:  73%|███████▎  | 1208/1659 [01:35<00:35, 12.60it/s]\rExtracting features:  73%|███████▎  | 1211/1659 [01:35<00:30, 14.73it/s]\rExtracting features:  73%|███████▎  | 1215/1659 [01:35<00:27, 16.30it/s]\rExtracting features:  73%|███████▎  | 1218/1659 [01:36<00:25, 17.50it/s]\rExtracting features:  74%|███████▎  | 1220/1659 [01:36<00:24, 17.89it/s]\rExtracting features:  74%|███████▎  | 1222/1659 [01:36<00:25, 17.26it/s]\rExtracting features:  74%|███████▍  | 1225/1659 [01:36<00:23, 18.83it/s]\rExtracting features:  74%|███████▍  | 1227/1659 [01:36<00:27, 15.81it/s]\rExtracting features:  74%|███████▍  | 1229/1659 [01:36<00:28, 14.83it/s]\rExtracting features:  74%|███████▍  | 1232/1659 [01:36<00:28, 14.77it/s]\rExtracting features:  74%|███████▍  | 1234/1659 [01:37<00:30, 14.15it/s]\rExtracting features:  75%|███████▍  | 1236/1659 [01:37<00:35, 11.79it/s]\rExtracting features:  75%|███████▍  | 1239/1659 [01:37<00:30, 13.89it/s]\rExtracting features:  75%|███████▍  | 1241/1659 [01:37<00:32, 13.06it/s]\rExtracting features:  75%|███████▍  | 1243/1659 [01:38<00:44,  9.41it/s]\rExtracting features:  75%|███████▌  | 1245/1659 [01:38<00:43,  9.46it/s]\rExtracting features:  75%|███████▌  | 1247/1659 [01:38<00:40, 10.20it/s]\rExtracting features:  75%|███████▌  | 1249/1659 [01:38<00:38, 10.73it/s]\rExtracting features:  75%|███████▌  | 1252/1659 [01:38<00:32, 12.57it/s]\rExtracting features:  76%|███████▌  | 1254/1659 [01:38<00:31, 12.75it/s]\rExtracting features:  76%|███████▌  | 1257/1659 [01:39<00:25, 15.72it/s]\rExtracting features:  76%|███████▌  | 1259/1659 [01:39<00:24, 16.02it/s]\rExtracting features:  76%|███████▌  | 1262/1659 [01:39<00:23, 17.05it/s]\rExtracting features:  76%|███████▌  | 1264/1659 [01:39<00:22, 17.18it/s]\rExtracting features:  76%|███████▋  | 1266/1659 [01:39<00:26, 14.83it/s]\rExtracting features:  76%|███████▋  | 1268/1659 [01:39<00:25, 15.54it/s]\rExtracting features:  77%|███████▋  | 1271/1659 [01:39<00:27, 14.22it/s]\rExtracting features:  77%|███████▋  | 1273/1659 [01:40<00:25, 15.35it/s]\rExtracting features:  77%|███████▋  | 1275/1659 [01:40<00:25, 14.83it/s]\rExtracting features:  77%|███████▋  | 1277/1659 [01:40<00:24, 15.72it/s]\rExtracting features:  77%|███████▋  | 1279/1659 [01:40<00:23, 15.87it/s]\rExtracting features:  77%|███████▋  | 1281/1659 [01:40<00:24, 15.64it/s]\rExtracting features:  77%|███████▋  | 1284/1659 [01:40<00:21, 17.62it/s]\rExtracting features:  78%|███████▊  | 1288/1659 [01:40<00:16, 22.17it/s]\rExtracting features:  78%|███████▊  | 1292/1659 [01:40<00:16, 22.90it/s]\rExtracting features:  78%|███████▊  | 1295/1659 [01:41<00:19, 18.20it/s]\rExtracting features:  78%|███████▊  | 1297/1659 [01:41<00:25, 14.31it/s]\rExtracting features:  78%|███████▊  | 1299/1659 [01:41<00:27, 13.03it/s]\rExtracting features:  78%|███████▊  | 1301/1659 [01:42<00:49,  7.28it/s]\rExtracting features:  79%|███████▊  | 1304/1659 [01:42<00:38,  9.23it/s]\rExtracting features:  79%|███████▉  | 1307/1659 [01:42<00:31, 11.16it/s]\rExtracting features:  79%|███████▉  | 1310/1659 [01:42<00:27, 12.69it/s]\rExtracting features:  79%|███████▉  | 1312/1659 [01:43<00:32, 10.76it/s]\rExtracting features:  79%|███████▉  | 1315/1659 [01:43<00:30, 11.16it/s]\rExtracting features:  79%|███████▉  | 1317/1659 [01:43<00:30, 11.26it/s]\rExtracting features:  80%|███████▉  | 1320/1659 [01:43<00:26, 12.57it/s]\rExtracting features:  80%|███████▉  | 1323/1659 [01:43<00:21, 15.48it/s]\rExtracting features:  80%|███████▉  | 1326/1659 [01:43<00:18, 17.86it/s]\rExtracting features:  80%|████████  | 1329/1659 [01:44<00:25, 12.79it/s]\rExtracting features:  80%|████████  | 1331/1659 [01:44<00:24, 13.19it/s]\rExtracting features:  80%|████████  | 1333/1659 [01:44<00:29, 11.17it/s]\rExtracting features:  80%|████████  | 1335/1659 [01:44<00:29, 11.14it/s]\rExtracting features:  81%|████████  | 1337/1659 [01:45<00:31, 10.09it/s]\rExtracting features:  81%|████████  | 1339/1659 [01:45<00:29, 10.72it/s]\rExtracting features:  81%|████████  | 1341/1659 [01:45<00:29, 10.73it/s]\rExtracting features:  81%|████████  | 1343/1659 [01:45<00:27, 11.30it/s]\rExtracting features:  81%|████████  | 1347/1659 [01:45<00:19, 15.76it/s]\rExtracting features:  81%|████████▏ | 1349/1659 [01:45<00:22, 13.59it/s]\rExtracting features:  81%|████████▏ | 1352/1659 [01:46<00:19, 15.94it/s]\rExtracting features:  82%|████████▏ | 1355/1659 [01:46<00:20, 15.12it/s]\rExtracting features:  82%|████████▏ | 1357/1659 [01:46<00:24, 12.24it/s]\rExtracting features:  82%|████████▏ | 1359/1659 [01:46<00:23, 12.75it/s]\rExtracting features:  82%|████████▏ | 1361/1659 [01:47<00:43,  6.84it/s]\rExtracting features:  82%|████████▏ | 1364/1659 [01:47<00:32,  9.06it/s]\rExtracting features:  82%|████████▏ | 1367/1659 [01:47<00:24, 11.79it/s]\rExtracting features:  83%|████████▎ | 1369/1659 [01:47<00:23, 12.60it/s]\rExtracting features:  83%|████████▎ | 1374/1659 [01:47<00:15, 18.52it/s]\rExtracting features:  83%|████████▎ | 1377/1659 [01:48<00:19, 14.73it/s]\rExtracting features:  83%|████████▎ | 1380/1659 [01:48<00:17, 16.01it/s]\rExtracting features:  83%|████████▎ | 1383/1659 [01:48<00:17, 15.52it/s]\rExtracting features:  83%|████████▎ | 1385/1659 [01:48<00:18, 14.62it/s]\rExtracting features:  84%|████████▎ | 1388/1659 [01:48<00:16, 16.04it/s]\rExtracting features:  84%|████████▍ | 1390/1659 [01:49<00:19, 14.05it/s]\rExtracting features:  84%|████████▍ | 1392/1659 [01:49<00:17, 14.88it/s]\rExtracting features:  84%|████████▍ | 1394/1659 [01:49<00:17, 14.97it/s]\rExtracting features:  84%|████████▍ | 1396/1659 [01:49<00:22, 11.91it/s]\rExtracting features:  84%|████████▍ | 1398/1659 [01:49<00:24, 10.65it/s]\rExtracting features:  84%|████████▍ | 1400/1659 [01:49<00:21, 12.07it/s]\rExtracting features:  85%|████████▍ | 1402/1659 [01:50<00:20, 12.75it/s]\rExtracting features:  85%|████████▍ | 1404/1659 [01:50<00:17, 14.23it/s]\rExtracting features:  85%|████████▍ | 1406/1659 [01:50<00:26,  9.62it/s]\rExtracting features:  85%|████████▍ | 1409/1659 [01:50<00:21, 11.44it/s]\rExtracting features:  85%|████████▌ | 1411/1659 [01:50<00:19, 12.84it/s]\rExtracting features:  85%|████████▌ | 1415/1659 [01:51<00:17, 13.64it/s]\rExtracting features:  85%|████████▌ | 1418/1659 [01:51<00:14, 16.13it/s]\rExtracting features:  86%|████████▌ | 1420/1659 [01:51<00:16, 14.88it/s]\rExtracting features:  86%|████████▌ | 1422/1659 [01:52<00:35,  6.64it/s]\rExtracting features:  86%|████████▌ | 1425/1659 [01:52<00:27,  8.48it/s]\rExtracting features:  86%|████████▌ | 1427/1659 [01:52<00:28,  8.16it/s]\rExtracting features:  86%|████████▌ | 1429/1659 [01:52<00:26,  8.75it/s]\rExtracting features:  86%|████████▋ | 1432/1659 [01:52<00:19, 11.49it/s]\rExtracting features:  86%|████████▋ | 1434/1659 [01:53<00:17, 12.55it/s]\rExtracting features:  87%|████████▋ | 1437/1659 [01:53<00:15, 14.71it/s]\rExtracting features:  87%|████████▋ | 1440/1659 [01:53<00:13, 16.80it/s]\rExtracting features:  87%|████████▋ | 1443/1659 [01:53<00:12, 17.22it/s]\rExtracting features:  87%|████████▋ | 1446/1659 [01:53<00:11, 18.93it/s]\rExtracting features:  87%|████████▋ | 1449/1659 [01:53<00:11, 18.48it/s]\rExtracting features:  88%|████████▊ | 1452/1659 [01:53<00:10, 19.05it/s]\rExtracting features:  88%|████████▊ | 1455/1659 [01:54<00:14, 13.96it/s]\rExtracting features:  88%|████████▊ | 1458/1659 [01:54<00:12, 16.19it/s]\rExtracting features:  88%|████████▊ | 1461/1659 [01:54<00:11, 17.71it/s]\rExtracting features:  88%|████████▊ | 1464/1659 [01:54<00:10, 19.47it/s]\rExtracting features:  88%|████████▊ | 1467/1659 [01:54<00:09, 21.05it/s]\rExtracting features:  89%|████████▊ | 1470/1659 [01:55<00:12, 15.11it/s]\rExtracting features:  89%|████████▊ | 1472/1659 [01:55<00:15, 12.13it/s]\rExtracting features:  89%|████████▉ | 1474/1659 [01:55<00:13, 13.26it/s]\rExtracting features:  89%|████████▉ | 1476/1659 [01:55<00:12, 14.30it/s]\rExtracting features:  89%|████████▉ | 1478/1659 [01:55<00:13, 13.36it/s]\rExtracting features:  89%|████████▉ | 1480/1659 [01:55<00:16, 11.08it/s]\rExtracting features:  89%|████████▉ | 1484/1659 [01:56<00:13, 13.33it/s]\rExtracting features:  90%|████████▉ | 1486/1659 [01:56<00:12, 14.07it/s]\rExtracting features:  90%|████████▉ | 1488/1659 [01:56<00:12, 13.88it/s]\rExtracting features:  90%|████████▉ | 1490/1659 [01:56<00:11, 14.99it/s]\rExtracting features:  90%|████████▉ | 1493/1659 [01:56<00:11, 14.80it/s]\rExtracting features:  90%|█████████ | 1496/1659 [01:56<00:09, 17.55it/s]\rExtracting features:  90%|█████████ | 1498/1659 [01:56<00:08, 18.01it/s]\rExtracting features:  90%|█████████ | 1500/1659 [01:57<00:09, 16.44it/s]\rExtracting features:  91%|█████████ | 1502/1659 [01:57<00:09, 16.79it/s]\rExtracting features:  91%|█████████ | 1505/1659 [01:57<00:07, 19.40it/s]\rExtracting features:  91%|█████████ | 1508/1659 [01:57<00:07, 21.51it/s]\rExtracting features:  91%|█████████ | 1511/1659 [01:57<00:07, 18.99it/s]\rExtracting features:  91%|█████████▏| 1514/1659 [01:57<00:08, 16.59it/s]\rExtracting features:  91%|█████████▏| 1516/1659 [01:58<00:09, 15.86it/s]\rExtracting features:  92%|█████████▏| 1519/1659 [01:58<00:09, 14.44it/s]\rExtracting features:  92%|█████████▏| 1522/1659 [01:58<00:08, 15.63it/s]\rExtracting features:  92%|█████████▏| 1524/1659 [01:58<00:08, 15.09it/s]\rExtracting features:  92%|█████████▏| 1526/1659 [01:58<00:09, 13.81it/s]\rExtracting features:  92%|█████████▏| 1528/1659 [01:58<00:09, 13.61it/s]\rExtracting features:  92%|█████████▏| 1531/1659 [01:59<00:09, 14.09it/s]\rExtracting features:  92%|█████████▏| 1533/1659 [01:59<00:08, 14.21it/s]\rExtracting features:  93%|█████████▎| 1535/1659 [01:59<00:08, 14.09it/s]\rExtracting features:  93%|█████████▎| 1538/1659 [01:59<00:07, 15.22it/s]\rExtracting features:  93%|█████████▎| 1541/1659 [01:59<00:06, 18.13it/s]\rExtracting features:  93%|█████████▎| 1544/1659 [01:59<00:05, 19.18it/s]\rExtracting features:  93%|█████████▎| 1547/1659 [02:00<00:07, 14.03it/s]\rExtracting features:  93%|█████████▎| 1549/1659 [02:00<00:07, 14.92it/s]\rExtracting features:  93%|█████████▎| 1551/1659 [02:00<00:07, 14.57it/s]\rExtracting features:  94%|█████████▎| 1553/1659 [02:00<00:07, 13.40it/s]\rExtracting features:  94%|█████████▎| 1555/1659 [02:00<00:07, 14.26it/s]\rExtracting features:  94%|█████████▍| 1558/1659 [02:00<00:07, 14.22it/s]\rExtracting features:  94%|█████████▍| 1560/1659 [02:01<00:10,  9.56it/s]\rExtracting features:  94%|█████████▍| 1563/1659 [02:01<00:07, 12.34it/s]\rExtracting features:  94%|█████████▍| 1566/1659 [02:01<00:07, 12.64it/s]\rExtracting features:  95%|█████████▍| 1568/1659 [02:01<00:07, 12.98it/s]\rExtracting features:  95%|█████████▍| 1570/1659 [02:01<00:06, 13.11it/s]\rExtracting features:  95%|█████████▍| 1572/1659 [02:02<00:06, 14.34it/s]\rExtracting features:  95%|█████████▍| 1574/1659 [02:02<00:10,  8.38it/s]\rExtracting features:  95%|█████████▌| 1579/1659 [02:02<00:06, 13.29it/s]\rExtracting features:  95%|█████████▌| 1583/1659 [02:02<00:04, 16.09it/s]\rExtracting features:  96%|█████████▌| 1587/1659 [02:02<00:03, 19.70it/s]\rExtracting features:  96%|█████████▌| 1590/1659 [02:03<00:03, 18.52it/s]\rExtracting features:  96%|█████████▌| 1593/1659 [02:03<00:04, 15.27it/s]\rExtracting features:  96%|█████████▌| 1595/1659 [02:03<00:04, 15.01it/s]\rExtracting features:  96%|█████████▋| 1597/1659 [02:03<00:05, 12.40it/s]\rExtracting features:  96%|█████████▋| 1600/1659 [02:03<00:03, 15.03it/s]\rExtracting features:  97%|█████████▋| 1602/1659 [02:04<00:03, 14.32it/s]\rExtracting features:  97%|█████████▋| 1604/1659 [02:04<00:04, 13.10it/s]\rExtracting features:  97%|█████████▋| 1606/1659 [02:04<00:03, 14.34it/s]\rExtracting features:  97%|█████████▋| 1610/1659 [02:04<00:02, 19.69it/s]\rExtracting features:  97%|█████████▋| 1613/1659 [02:04<00:02, 17.49it/s]\rExtracting features:  97%|█████████▋| 1616/1659 [02:04<00:02, 17.18it/s]\rExtracting features:  98%|█████████▊| 1618/1659 [02:05<00:02, 17.60it/s]\rExtracting features:  98%|█████████▊| 1620/1659 [02:05<00:02, 13.83it/s]\rExtracting features:  98%|█████████▊| 1622/1659 [02:05<00:02, 13.11it/s]\rExtracting features:  98%|█████████▊| 1624/1659 [02:05<00:02, 12.55it/s]\rExtracting features:  98%|█████████▊| 1626/1659 [02:05<00:02, 12.92it/s]\rExtracting features:  98%|█████████▊| 1629/1659 [02:05<00:01, 15.42it/s]\rExtracting features:  98%|█████████▊| 1631/1659 [02:06<00:02, 12.05it/s]\rExtracting features:  98%|█████████▊| 1633/1659 [02:06<00:02, 10.66it/s]\rExtracting features:  99%|█████████▊| 1635/1659 [02:06<00:02, 10.95it/s]\rExtracting features:  99%|█████████▊| 1637/1659 [02:06<00:01, 11.54it/s]\rExtracting features:  99%|█████████▉| 1639/1659 [02:06<00:01, 11.77it/s]\rExtracting features:  99%|█████████▉| 1642/1659 [02:07<00:01, 11.73it/s]\rExtracting features:  99%|█████████▉| 1644/1659 [02:07<00:02,  6.97it/s]\rExtracting features:  99%|█████████▉| 1648/1659 [02:07<00:01, 10.20it/s]\rExtracting features:  99%|█████████▉| 1650/1659 [02:08<00:00, 10.63it/s]\rExtracting features: 100%|█████████▉| 1653/1659 [02:08<00:00, 11.37it/s]\rExtracting features: 100%|█████████▉| 1656/1659 [02:08<00:00, 13.70it/s]\rExtracting features: 100%|██████████| 1659/1659 [02:08<00:00, 15.12it/s]\rExtracting features: 100%|██████████| 1659/1659 [02:08<00:00, 12.90it/s]\n"
          ]
        }
      ]
    },
    {
      "cell_type": "markdown",
      "source": [
        "## Train a Model"
      ],
      "metadata": {
        "id": "IdMsEL7q2uq2"
      }
    },
    {
      "cell_type": "markdown",
      "source": [
        "Please note:\n",
        "1. These are *not* the parameters for the original baseline model in the Ego4D whitepaper.\n",
        "2. Omnivore video features are used (slowfast was originally used), and their FP16 variant. This is due to free colab constraints (100GB disk space).\n",
        "\n",
        "Omnivore video features do out-perform slowfast features."
      ],
      "metadata": {
        "id": "3vvSjO3-7OeG"
      }
    },
    {
      "cell_type": "code",
      "source": [
        "%load_ext tensorboard"
      ],
      "metadata": {
        "id": "NtAHrCP5ij1Q"
      },
      "execution_count": null,
      "outputs": []
    },
    {
      "cell_type": "markdown",
      "source": [
        "You may have to re-run this cell after you run the training script. You can try to reload data."
      ],
      "metadata": {
        "id": "SJzhRfjk_qEQ"
      }
    },
    {
      "cell_type": "code",
      "source": [
        "!mkdir -p /content/episodic-memory/NLQ/VSLNet/runs/\n",
        "%tensorboard --logdir /content/episodic-memory/NLQ/VSLNet/runs/"
      ],
      "metadata": {
        "id": "dT2ABqXvimuH"
      },
      "execution_count": null,
      "outputs": []
    },
    {
      "cell_type": "markdown",
      "source": [
        "Unfortunately due to colab and the time taken in the below script (it first saves additional metadata to disk) - the cell below takes a while to get started. Please be patient when running it may take at least 30 minutes. You may get timed out from colab.\n",
        "\n",
        "You can tell if the training is started by inspecting the filesystem on the left hand side. The directory: `episodic-memory/NLQ/VSLNet/runs` will populate with a subdirectory for the tensorboard logdir.\n",
        "\n",
        "Please note, these are *not* the hyper parameters used for the baseline. The following uses an aggressive learning rate and a low number of epochs, to converge faster so you don't have to wait as long for this cell to finish. :)"
      ],
      "metadata": {
        "id": "PVHPgeDz8r7U"
      }
    },
    {
      "cell_type": "code",
      "source": [
        "%%bash\n",
        "\n",
        "source vars.sh\n",
        "\n",
        "# machine parameters\n",
        "export DATALOADER_WORKERS=1\n",
        "export NUM_WORKERS=2\n",
        "export VAL_JSON_PATH=\"/content/ego4d_data/v1/annotations/nlq_val.json\"\n",
        "\n",
        "# hyper parameters\n",
        "export BATCH_SIZE=32\n",
        "export DIM=128\n",
        "export NUM_EPOCH=10\n",
        "export MAX_POS_LEN=128\n",
        "export INIT_LR=0.0025\n",
        "\n",
        "export TB_LOG_NAME=\"${NAME}_bs${BATCH_SIZE}_dim${DIM}_epoch${NUM_EPOCH}_ilr${INIT_LR}\"\n",
        "\n",
        "python main.py \\\n",
        "    --task $TASK_NAME \\\n",
        "    --predictor bert \\\n",
        "    --dim $DIM \\\n",
        "    --mode train \\\n",
        "    --video_feature_dim 1536 \\\n",
        "    --max_pos_len $MAX_POS_LEN \\\n",
        "    --init_lr $INIT_LR \\\n",
        "    --epochs $NUM_EPOCH \\\n",
        "    --batch_size $BATCH_SIZE \\\n",
        "    --fv official \\\n",
        "    --num_workers $NUM_WORKERS \\\n",
        "    --data_loader_workers $DATALOADER_WORKERS \\\n",
        "    --model_dir $MODEL_BASE_DIR/$NAME \\\n",
        "    --eval_gt_json $VAL_JSON_PATH \\\n",
        "    --log_to_tensorboard $TB_LOG_NAME \\\n",
        "    --tb_log_freq 5 \\\n",
        "    --remove_empty_queries_from train"
      ],
      "metadata": {
        "id": "7LXflBep21gl"
      },
      "execution_count": null,
      "outputs": []
    },
    {
      "cell_type": "code",
      "source": [],
      "metadata": {
        "id": "bMulhc05eF6Q"
      },
      "execution_count": null,
      "outputs": []
    }
  ]
}